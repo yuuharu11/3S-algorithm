{
 "cells": [
  {
   "cell_type": "markdown",
   "metadata": {},
   "source": [
    "# グラフ&フロー  \n",
    "Source:始点, sink:終点  \n",
    "## 最大流問題  \n",
    "あるノードから別のノードへの流量の最大値を求める  \n",
    "・貪欲法(greedy algorithm) 今ある選択肢のうち，なにか1つを選んで次に進む 必ずしも最適解を導出できるとは限らない  \n",
    "経路をDFSで見つけて流せるだけ流す　が、探索しきれない  \n",
    "・フォード・ファルカーソン法  \n",
    "基本は貪欲法と同じだが逆方向の経路も想定する   \n",
    "ノード間を逆にたどる経路を考えることで，流しすぎたフローを逆に戻す処理を実現している  \n",
    "##### これによって，流す経路を導出するのをDFSに⼀本化できている！\n"
   ]
  },
  {
   "cell_type": "code",
   "execution_count": 2,
   "metadata": {},
   "outputs": [
    {
     "name": "stdout",
     "output_type": "stream",
     "text": [
      "20\n"
     ]
    }
   ],
   "source": [
    "#実装例\n",
    "capacity =[ [0, 10, 10, 0, 0, 0], # A->B: 10,  A->C: 10 \n",
    "           [0, 0, 0, 4, 8, 0], # B->D: 4,  B->E: 8 \n",
    "           [0, 0, 0, 7, 4, 0], # C->D: 7,  C->E: 4 \n",
    "           [0, 0, 0, 0, 0, 8], # D->F: 8 \n",
    "           [0, 0, 0, 0, 0, 12], # E->F: 12\n",
    "           [0, 0, 0, 0, 0, 0] # Fから出ていくものなし\n",
    "           ]\n",
    "max_flow=0\n",
    "V=6\n",
    "#s-e間において流量を返す\n",
    "def dfs_ff(s,e,flow):\n",
    "    if s==e:\n",
    "        return flow\n",
    "    visited[s]=True\n",
    "    for i in range(V):\n",
    "        if not visited[i] and capacity[s][i]>0:\n",
    "            next_flow=min(flow,capacity[s][i])\n",
    "            f=dfs_ff(i,e,next_flow)\n",
    "            if f>0:\n",
    "                capacity[s][i]-=f\n",
    "                capacity[i][s]+=f\n",
    "                return f\n",
    "    return 0\n",
    "\n",
    "while True:\n",
    "    visited=[False for _ in range(V)]\n",
    "    f=dfs_ff(0,5,10**9)\n",
    "    if not f:\n",
    "        break\n",
    "    max_flow+=f\n",
    "print(max_flow)"
   ]
  },
  {
   "cell_type": "markdown",
   "metadata": {},
   "source": [
    "### フォード・ファルカーソン法の時間計算量  \n",
    "ノード数$|V|$, 最大流の最適値をFとする  \n",
    "最悪の場合、新しい経路が見つかっても最大流が1つしか増やせない→F回の最大流値の更新が発生  \n",
    "新しい経路を探すための操作 $O(|V|)$より上記実装方法では$O(F|V|^2)$となる  \n",
    "一方で隣接リストなら$O(F|E|)$となる  \n",
    "ただし経路の容量が整数もしくは有理数である必要があり、無理数の場合は最適解に収束しない可能性がある。  \n",
    "また、最大流量Fは未知数であり、実行してみないとわからない。→ エドモンズ・カープ法：$O(|V||E|^2)$, ディニッツ法：$O(|V|)^2|E|$"
   ]
  },
  {
   "cell_type": "markdown",
   "metadata": {},
   "source": [
    "## グラフのカット\n",
    "カット＝あるグラフを2つのグループ（集合）に分ける  \n",
    "s-tカット : 𝑆に開始ノードが，𝑉\\𝑆に終点ノードが含まれるカット  \n",
    "フロー𝑓は以下のように計算される．𝑓 =[𝑆から𝑉∖𝑆への流⼊量]−[𝑉∖𝑆から𝑆への流⼊量] → 𝑓 ≤ [𝑆から𝑉∖𝑆への流⼊量]  \n",
    "さらに，[𝑆から𝑉∖𝑆への流⼊量]はそのパスの容量を超えることはない．よって，𝑓 ≤ [𝑆から𝑉∖𝑆への流⼊量] ≤ 𝑈(𝑆→𝑉∖𝑆)  \n",
    "##### 最小カット\n",
    "s-tカットにおいて，𝑆から𝑉∖𝑆へ向かう辺の容量の和𝑈(𝑆 → 𝑉∖𝑆)が最⼩になるようなカット．  \n",
    "<最大流・最小カット定理>  \n",
    "「与えられたグラフにおいて，最⼤流の流量はs-tカットにおける最⼩カットの容量に等しい」  \n",
    "[ノードに容量がある場合]  \n",
    "ノードを⼊ってくる⽅と出る⽅の2つに分けて，その間をノードの容量で結ぶ．  \n",
    "[複数のsourceやsinkがある場合]  \n",
    "各sourceに向かう辺を持つ新しい始点ノードを作り，その各辺にそれぞれの最⼤流出量を付与する．sinkの場合も同様に新しい終点ノードを作れば良い．"
   ]
  },
  {
   "cell_type": "markdown",
   "metadata": {},
   "source": [
    "### 計算量\n",
    "s-tカットの分け方：ファード・ファルカーソン法により$O(F|V|^2)$や$O(F|E|)$で求められる  \n"
   ]
  },
  {
   "cell_type": "markdown",
   "metadata": {},
   "source": [
    "#### フローグラフの典型的な応用\n",
    "二部グラフ：頂点集合を2つの部分集合に分割でき，各集合内の頂点同⼠の間には辺が無いグラフ  \n",
    "最⼤マッチングペアの数を最⼤にする辺の組み合わせを考える。これを最大流問題に置き換えると  \n",
    "辺の容量を1として，左のグループから右のグループに流れる流量が最⼤になる辺の組み合わせを考える．全ての辺の容量は1なので，流れる流量が最⼤になれば，左のグループから右のグループへと流すために使った辺の数も最⼤，つまり左右の組み合わせ数も最⼤となっている状態を作り出せる\n"
   ]
  },
  {
   "cell_type": "code",
   "execution_count": 2,
   "metadata": {},
   "outputs": [
    {
     "name": "stdout",
     "output_type": "stream",
     "text": [
      "[[1, 2, 3], [1, 3, 1], [1, 4, 1], [2, 3, 2], [3, 4, 2], [2, 4, 1]]\n",
      "4\n"
     ]
    }
   ],
   "source": [
    "#基本課題\n",
    "N,M=map(int,input().split())\n",
    "List=[list(map(int,input().split())) for _ in range(M)]\n",
    "\n",
    "def make_edges_list(L):\n",
    "    edges_list=[[0]*N for _ in range(N)]\n",
    "    for u,v,c in L:\n",
    "        edges_list[u-1][v-1]=c\n",
    "    return edges_list\n",
    "capacity=make_edges_list(List)\n",
    "max_flow=0\n",
    "\n",
    "def dfs_ff(s,e,flow):\n",
    "    if s==e:\n",
    "        return flow\n",
    "    visited[s]=True\n",
    "    for i in range(N):\n",
    "        if not visited[i] and capacity[s][i]>0:\n",
    "            next_flow=min(flow,capacity[s][i])\n",
    "            f=dfs_ff(i,e,next_flow)\n",
    "            if f>0:\n",
    "                capacity[s][i]-=f\n",
    "                capacity[i][s]+=f\n",
    "                return f\n",
    "    return 0\n",
    "\n",
    "while True:\n",
    "    visited=[False for _ in range(N)]\n",
    "    f=dfs_ff(0,N-1,10**9)\n",
    "    if not f:\n",
    "        break\n",
    "    max_flow+=f\n",
    "print(max_flow)"
   ]
  },
  {
   "cell_type": "code",
   "execution_count": null,
   "metadata": {},
   "outputs": [],
   "source": [
    "N,M,H=map(int,input().split())\n",
    "List=[list(map(int,input().split())) for _ in range(M)]"
   ]
  },
  {
   "cell_type": "code",
   "execution_count": 22,
   "metadata": {},
   "outputs": [
    {
     "name": "stdout",
     "output_type": "stream",
     "text": [
      "4\n",
      "2\n",
      "1\n",
      "0\n"
     ]
    }
   ],
   "source": [
    "\n",
    "def make_edges_list(L,h):\n",
    "    edges_list=[[0]*N for _ in range(N)]\n",
    "    for u,v,c in L:\n",
    "        edges_list[u-1][v-1]=c-h\n",
    "    return edges_list\n",
    "\n",
    "def dfs_ff(s,e,flow,visited,capacity):\n",
    "    if s==e:\n",
    "        return flow\n",
    "    visited[s]=True\n",
    "    for i in range(N):\n",
    "        if not visited[i] and capacity[s][i]>0:\n",
    "            next_flow=min(flow,capacity[s][i])\n",
    "            f=dfs_ff(i,e,next_flow,visited,capacity)\n",
    "            if f>0:\n",
    "                capacity[s][i]-=f\n",
    "                capacity[i][s]+=f\n",
    "                return f\n",
    "    return 0\n",
    "def calc_cost(capacity):\n",
    "    max_flow=0\n",
    "    while True:\n",
    "        visited=[False for _ in range(N)]\n",
    "        f=dfs_ff(0,N-1,10**9,visited,capacity)\n",
    "        if not f:\n",
    "            break\n",
    "        max_flow+=f\n",
    "    return max_flow\n",
    "\n",
    "for h in range(H):\n",
    "    capacity=make_edges_list(List,h)\n",
    "    print(calc_cost(capacity))"
   ]
  },
  {
   "cell_type": "code",
   "execution_count": 21,
   "metadata": {},
   "outputs": [
    {
     "name": "stdout",
     "output_type": "stream",
     "text": [
      "4\n",
      "4\n",
      "4\n",
      "4\n"
     ]
    }
   ],
   "source": [
    "# エッジのリストを基にフロー容量の行列を作成する関数\n",
    "def make_edges_list(L):\n",
    "    edges_list = [[0]*N for _ in range(N)]\n",
    "    for u, v, c in L:\n",
    "        edges_list[u-1][v-1] = c\n",
    "    return edges_list\n",
    "\n",
    "# s から e までのフローをDFSで計算する関数\n",
    "def dfs_ff(s, e, flow, visited,capacity):\n",
    "    if s == e:\n",
    "        return flow\n",
    "    visited[s] = True\n",
    "    for i in range(N):\n",
    "        if not visited[i] and capacity[s][i] > 0:\n",
    "            next_flow = min(flow, capacity[s][i])\n",
    "            f = dfs_ff(i, e, next_flow, visited,capacity)\n",
    "            if f > 0:\n",
    "                capacity[s][i] -= f\n",
    "                capacity[i][s] += f\n",
    "                return f\n",
    "    return 0\n",
    "\n",
    "# 最大フローを計算する関数\n",
    "def calc_cost():\n",
    "    max_flow=0\n",
    "    local_capacity = [row[:] for row in capacity]\n",
    "    while True:\n",
    "        visited = [False for _ in range(N)]\n",
    "        f = dfs_ff(0, N-1, 10**9, visited,local_capacity)\n",
    "        if not f:\n",
    "            break\n",
    "        max_flow += f\n",
    "    return max_flow\n",
    "\n",
    "\n",
    "# フロー容量の行列を作成\n",
    "capacity = make_edges_list(List)\n",
    "\n",
    "# 繰り返し計算（例では1回）\n",
    "for h in range(H):\n",
    "    print(calc_cost())\n"
   ]
  }
 ],
 "metadata": {
  "kernelspec": {
   "display_name": "Python 3",
   "language": "python",
   "name": "python3"
  },
  "language_info": {
   "codemirror_mode": {
    "name": "ipython",
    "version": 3
   },
   "file_extension": ".py",
   "mimetype": "text/x-python",
   "name": "python",
   "nbconvert_exporter": "python",
   "pygments_lexer": "ipython3",
   "version": "3.12.4"
  }
 },
 "nbformat": 4,
 "nbformat_minor": 2
}
