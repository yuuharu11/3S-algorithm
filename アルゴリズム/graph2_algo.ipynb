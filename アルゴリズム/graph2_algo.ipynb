{
 "cells": [
  {
   "cell_type": "markdown",
   "metadata": {},
   "source": [
    "# テーマ  \n",
    "### ・最小全域木  \n",
    "### ・トポジカルソート"
   ]
  },
  {
   "cell_type": "markdown",
   "metadata": {},
   "source": [
    "## 全域木  \n",
    "グラフにおいて、すべての頂点がつながっている木(閉路を持たない)  \n",
    "最小全域木：全域木の中での篇の距離の総和が最小になるもの  \n",
    "・辺ベースのアプローチ（クラスカル法）\n",
    "・ノードベースのアプローチ（プリム法）\n",
    "\n",
    "### クラスカル法  \n",
    "存在する辺を距離の短い順に並べて順に⼊れていき，閉路が出来ないことが確認できた場合は追加し，全部の辺をチェックしたら終了    \n",
    "#1 すべての辺を距離の短い順にソート  \n",
    "#2 一番距離の短い辺からスタート  \n",
    "#3 今までにできた木に辺を追加したとき、閉路が新しくできないことを確認する  \n",
    "#4 すべての辺をチェック  \n",
    "→#3に時間を要してしまう  \n",
    "##### 素集合データ構造(Union-Find木)  \n",
    "要素を素集合（互いに重ならない集合）に分割して管理するデータ構造．このデータ構造には2つの操作がある．  \n",
    "Unite：2つの集合をマージする  \n",
    "Find：ある要素がどの集合にいるかを⾒つける．  \n",
    "<実装>\n",
    "N個の要素がある時，⻑さNの配列を⽤意  \n",
    "この配列には親ノードのindexを⼊れる．⾃分が根ノードの場合は⾃分⾃⾝のindexを⼊れる  \n",
    "この値をたどっていけば最終的に根ノードに⾏き着く  \n",
    "最初の時点では⾃分⾃⾝しかグループに属していないので，⾃分⾃⾝が根ノードになる  \n",
    "\n",
    "#1 Unite時に気の高さが高いほうにマージ  \n",
    "#2 根を調べたときに直接根につながるようにつなぎ変える\n"
   ]
  },
  {
   "cell_type": "code",
   "execution_count": 1,
   "metadata": {},
   "outputs": [],
   "source": [
    "#実装例\n",
    "class UnionFind:\n",
    "    def __init__(self,n):\n",
    "        self.parent=[i for i in range(n)]\n",
    "        self.height=[0 for _ in range(n)]\n",
    "    \n",
    "    def get_root(self,i):\n",
    "        if self.parent[i]==i:\n",
    "            return i\n",
    "        else:\n",
    "            self.parent[i]=self.get_root(self.parent[i])\n",
    "            return self.parent[i]\n",
    "    \n",
    "    def unite(self,i,j):\n",
    "        root_i=self.get_root(i)\n",
    "        root_j=self.get_root(j)\n",
    "        if root_i!=root_j:\n",
    "            if self.height[root_i]<self.height[root_j]:\n",
    "                self.parent[root_i]=root_j\n",
    "            else:\n",
    "                self.parent[root_j]=root_i    \n",
    "                if self.height[root_i]==self.height[root_j]:\n",
    "                    self.height[root_i]+=1\n",
    "                    \n",
    "    def is_in_group(self,i,j):\n",
    "        if self.get_root(i)==self.get_root(j):\n",
    "            return True\n",
    "        else:\n",
    "            return False\n"
   ]
  },
  {
   "cell_type": "markdown",
   "metadata": {},
   "source": [
    "計算量はアッカーマン関数の逆関数になることが知られており定数倍とみなして扱われることもある。  \n",
    "Union-Find木では閉路の判定は二つのノードが同じグループに属していないことをチェックすればよく速攻判定可能!  \n"
   ]
  },
  {
   "cell_type": "code",
   "execution_count": 71,
   "metadata": {},
   "outputs": [],
   "source": [
    "#クラスカル法の実装例\n",
    "def kruskal(V,e_list):\n",
    "    e_cost_sorted=[]\n",
    "    #ソートのために先頭を距離にする\n",
    "    for e in e_list:\n",
    "        e_cost_sorted.append([e[2],e[1],e[0]])\n",
    "    e_cost_sorted.sort()\n",
    "    #Union-Find\n",
    "    uf_tree=UnionFind(V)\n",
    "    #最小全域木の辺を保持するリスト\n",
    "    mst=[]\n",
    "    #距離の小さい順にみていきe[1],e[2]がおなじグループでないのなら同じグループにする\n",
    "    for edge in e_cost_sorted:\n",
    "        cost,u,v=edge\n",
    "        if uf_tree.is_in_group(u,v)==False:\n",
    "            uf_tree.unite(u,v)\n",
    "            mst.append([u,v])\n",
    "    mst.sort()\n",
    "    print(mst)\n",
    "    "
   ]
  },
  {
   "cell_type": "code",
   "execution_count": 72,
   "metadata": {},
   "outputs": [
    {
     "name": "stdout",
     "output_type": "stream",
     "text": [
      "[[0, 2], [1, 3], [1, 5], [2, 3], [2, 4], [3, 7], [6, 7]]\n"
     ]
    }
   ],
   "source": [
    "edges_list = [[0, 1, 5], [0, 2, 4], [1, 0, 5], [1, 3, 3], [1, 5, 9], [2, 0, 4], [2, 3, 2], [2, 4, 3], [3, 1, 3], [3, 2, 2], [3, 6, 7], [3, 7, 5], [4, 2, 3], [4, 6, 8], [5, 1, 9], [6, 3, 7], [6, 4, 8], [6, 7, 1], [7, 3, 5], [7, 6, 1]] \n",
    "kruskal(8, edges_list)"
   ]
  },
  {
   "cell_type": "markdown",
   "metadata": {},
   "source": [
    "##### クラスカル法の計算量  \n",
    "隣接リストの場合、辺の数を$|E|$として辺のソートに$O(|E|log|E|)$かかる  \n",
    "各辺を入れるかどうかの判断はUnion-Find木を用いれば$O(\\alpha(|V|))$となりこれを$O(|E|)$回行う。  \n",
    "よってアルゴリズム全体の計算量としては$O(|E|log|E|)$"
   ]
  },
  {
   "cell_type": "markdown",
   "metadata": {},
   "source": [
    "### プリム法  \n",
    "すでに到達した頂点の集合からまだ到達していない頂点の集合への辺のうち，距離が最短のものを追加し，全ノードつながったら終了  \n",
    "#1 最初のノードを1つ選び（どれでも可），訪問済にする  \n",
    "#2 そのノードに繋がっている全ての辺を取り，最⼩全域⽊の候補の辺に⼊れる\n",
    "#3  最⼩全域⽊の候補の辺の中から，接続先のノードが未訪問である最短の距離の辺を選ぶ．（接続先のノードが訪問済の場合は無視して次候補に移る．）  \n",
    "#4 選んだ辺を最⼩全域⽊に⼊れ，その接続先にあるノードを訪問済にする   \n",
    "#5  #4で新しく訪問したノードから，更にその先につながっている辺のうち，接続先のノードが未訪問の全ての辺を最⼩全域⽊の候補に⼊れる  \n",
    "#6 以降，全ノードが訪問済になるまで#2〜#4を繰り返す  \n",
    "<計算量>  \n",
    "ノードの数を$|V|$として  \n",
    "隣接行列+最短の辺の単純な探索:$O(|V|^3)$(最短の辺の探索に$O(|V|^2)$)  \n",
    "隣接リスト+最短の辺の単純な探索:$O(|E||V|)$  \n",
    "ただしデータ構造を工夫することで高速化できる  \n",
    "以下の実装例は隣接リスト+ヒープを使う"
   ]
  },
  {
   "cell_type": "code",
   "execution_count": 10,
   "metadata": {},
   "outputs": [],
   "source": [
    "import heapq\n",
    "inf=10**10\n",
    "def prim(V,e_list):\n",
    "    edges_from=[[] for _ in range(V)]\n",
    "    for e in e_list:\n",
    "        edges_from[e[0]].append([e[2],e[0],e[1]])\n",
    "    e_heapq=[]\n",
    "    mst=[]\n",
    "    #ノードが最小全域木に入ったかどうかのフラグ\n",
    "    included=[False]*V\n",
    "    #ノードをまず一つ選ぶ\n",
    "    included[0]=True\n",
    "    #ノード0に接続する辺をヒープに入れる\n",
    "    for e in edges_from[0]:\n",
    "        heapq.heappush(e_heapq,e)\n",
    "                \n",
    "    while len(e_heapq):\n",
    "        min_edge=heapq.heappop(e_heapq)\n",
    "        #その辺の到達先が未訪問なら追加\n",
    "        if not included[min_edge[2]]:\n",
    "            included[min_edge[2]]=True\n",
    "            mst.append([min_edge[1],min_edge[2]])\n",
    "            for e in edges_from[min_edge[2]]:\n",
    "                heapq.heappush(e_heapq,e)\n",
    "    mst.sort()\n",
    "    print(mst)"
   ]
  },
  {
   "cell_type": "code",
   "execution_count": 11,
   "metadata": {},
   "outputs": [
    {
     "name": "stdout",
     "output_type": "stream",
     "text": [
      "[[0, 2], [1, 5], [2, 3], [2, 4], [3, 1], [3, 7], [7, 6]]\n"
     ]
    }
   ],
   "source": [
    "edges_list = [[0, 1, 5], [0, 2, 4], [1, 0, 5], [1, 3, 3], [1, 5, 9], [2, 0, 4], [2, 3, 2], [2, 4, 3], [3, 1, 3], [3, 2, 2], [3, 6, 7], [3, 7, 5], [4, 2, 3], [4, 6, 8], [5, 1, 9], [6, 3, 7], [6, 4, 8], [6, 7, 1], [7, 3, 5], [7, 6, 1]] \n",
    "prim(8, edges_list)"
   ]
  },
  {
   "cell_type": "markdown",
   "metadata": {},
   "source": [
    "##### プリム法の計算量（ヒープ使用時）\n",
    "ヒープに入る要素の数は辺の総数で追加、削除にかかる計算量は$O(log|E|)$  \n",
    "追加も削除も$O(|E|)$回あるので全体の計算量は$O(|E|log|E|)$となる。  \n",
    "フィボナッチヒープを用いることで$O(|E|+|V|log|V|)$に落とせる。"
   ]
  },
  {
   "cell_type": "markdown",
   "metadata": {},
   "source": [
    "## トポジカルソート  \n",
    "閉路の無い有向グラフを「ソート」する．全ての有向辺が1つの向きになるようにノードを並び替える．このようなグラフを有向⾮巡回グラフと呼ぶ．英語ではDirected Acyclic Graph（DAG）．また，与えられるDAGには多重辺がないとする．  \n",
    "##### 有向木  \n",
    "根である点をただ1つ持ち，辺の向きが根から葉，もしくは葉から根のどちらかに限られる．辺の向きが全て同じでない場合，「任意の2点を結ぶ経路がただ1つ存在する」という⽊の制約を満たさない．有向⽊はDAGである．ただしDAGは必ずしも有向木ではない.  \n",
    "##### 次数. 入次数  \n",
    "次数:あるノードにつながっている辺の総数\n",
    "入次数:あるノードに入ってくる辺の数 ⇔ 出次数:出ていく辺の数  \n",
    "[次数]=[入次数]+[出次数]　　\n",
    "### Kahnのトポロジカルソートの方針\n",
    "⼊次数0のノードを⾒つけ出し，それをグラフから取り除き，ソート済の場所に⼊れていく．  　　\n",
    "具体的な実装としては，各ノードの⼊次数を予め記録しておき，ノードを取り出すたびに⼊次数の値を更新する．  　　\n",
    "この時，取り除いたノードの出⼒辺の接続先ノードの⼊次数のみ更新すれば良い．  \n"
   ]
  },
  {
   "cell_type": "code",
   "execution_count": 20,
   "metadata": {},
   "outputs": [
    {
     "name": "stdout",
     "output_type": "stream",
     "text": [
      "[0, 1, 2, 3, 4]\n"
     ]
    }
   ],
   "source": [
    "#実装例\n",
    "V=5\n",
    "E=6\n",
    "edges = [[0, 1], [0, 2], [1, 3], [2, 3], [2, 4], [3, 4]]\n",
    "\n",
    "from collections import deque\n",
    "def KahnTopo(V,E,edges):\n",
    "    indeg=[0]*V #入次数\n",
    "    outedge=[[] for _ in range(V)] #出力辺\n",
    "    for v_from,v_to in edges:\n",
    "        indeg[v_to]+=1\n",
    "        outedge[v_from].append(v_to)\n",
    "    #ソート済のノードを格納する配列\n",
    "    sorted_g=list(v for v in range(V) if indeg[v]==0)\n",
    "    #入次数0のノードを処理するためのdeque\n",
    "    deq=deque(sorted_g)\n",
    "    while deq:\n",
    "        v=deq.popleft()\n",
    "        for u in outedge[v]:\n",
    "            E-=1\n",
    "            indeg[u]-=1\n",
    "            if indeg[u]==0:\n",
    "                deq.append(u)\n",
    "                sorted_g.append(u)\n",
    "    \n",
    "    if E!=0:\n",
    "        return -1\n",
    "    return sorted_g\n",
    "\n",
    "print(KahnTopo(V,E,edges))"
   ]
  },
  {
   "cell_type": "code",
   "execution_count": 23,
   "metadata": {},
   "outputs": [
    {
     "name": "stdout",
     "output_type": "stream",
     "text": [
      "[0, 1, 2, 3]\n"
     ]
    }
   ],
   "source": [
    "import heapq\n",
    "def KahnTopo_1(V,E,edges):\n",
    "    indeg=[0]*V #入次数\n",
    "    outedge=[[] for _ in range(V)] #出力辺\n",
    "    for v_from,v_to in edges:\n",
    "        indeg[v_to]+=1\n",
    "        outedge[v_from].append(v_to)\n",
    "    #ソート済のノードを格納する配列\n",
    "    sorted_g=list(v for v in range(V) if indeg[v]==0)\n",
    "    #入次数0のノードを処理するためのdeque\n",
    "    min_heap=[]\n",
    "    for v in range(V):\n",
    "        if indeg[v] == 0:\n",
    "            heapq.heappush(min_heap, v)\n",
    "    \n",
    "    result = []\n",
    "    while min_heap:\n",
    "        v = heapq.heappop(min_heap)\n",
    "        result.append(v)\n",
    "        for u in outedge[v]:\n",
    "            E -= 1\n",
    "            indeg[u] -= 1\n",
    "            if indeg[u] == 0:\n",
    "                heapq.heappush(min_heap, u)\n",
    "    \n",
    "    if E != 0:\n",
    "        return -1\n",
    "    return result\n",
    "\n",
    "V=4 \n",
    "E=3\n",
    "edges=[[0, 1],[1, 3],[2, 3]]\n",
    "print(KahnTopo_1(V,E,edges))"
   ]
  },
  {
   "cell_type": "markdown",
   "metadata": {},
   "source": [
    "### Tarjanのトポジカルソート  \n",
    "ノードを一つ選び、DFSをたどっていく. 先に進めないところまで到達したら，後戻りしながらソート済の場所に先頭から順に⼊れていく"
   ]
  },
  {
   "cell_type": "code",
   "execution_count": 13,
   "metadata": {},
   "outputs": [
    {
     "name": "stdout",
     "output_type": "stream",
     "text": [
      "deque([0, 2, 1, 3, 4])\n"
     ]
    }
   ],
   "source": [
    "#実装例\n",
    "def TarjanTopo(V,edge):\n",
    "    def check(v):\n",
    "        if visited[v]==1:\n",
    "            return ValueError\n",
    "        elif visited[v]==0:\n",
    "            visited[v]=1\n",
    "            for to_v in outedge[v]:\n",
    "                check(to_v)\n",
    "            visited[v]=2\n",
    "            sorted_g.appendleft(v)\n",
    "    #ノードをすでに見たかどうかを格納する配列\n",
    "    visited=[0]*V\n",
    "    outedge=[[] for _ in range(V)]\n",
    "    for e in edges:\n",
    "        outedge[e[0]].append(e[1])\n",
    "    sorted_g=deque()\n",
    "    for i in range(V):\n",
    "        check(i)\n",
    "    return sorted_g\n",
    "\n",
    "V = 5 \n",
    "edges = [[0, 1], [0, 2], [1, 3], [2, 3], [2, 4], [3, 4]] \n",
    "print(TarjanTopo(V, edges))"
   ]
  },
  {
   "cell_type": "markdown",
   "metadata": {},
   "source": [
    "#### トポジカルソートの計算量  \n",
    "ソートの本質的な部分はKahnのアルゴリズムの場合whileループ、Tarjamもアルゴリズムの場合再帰部分になる  \n",
    "入力されたグラフがDAGの場合、すべてのノードと辺は高々一回しかチェックされないため、$O(|V|+|E|)$になる  \n",
    "<応用例>  \n",
    "##### 閉路チェック  \n",
    "有向グラフにおいてトポロジカルソートできなかった場合，どこかに閉路が存在する（有向巡回グラフになっている）．  \n",
    "##### 最短経路  \n",
    "トポロジカルソートを実⾏し，そのソート順にノードを⾒ていくことで，最短経路を求めることができる  \n",
    "トポロジカルソート結果順にノードを調べていれば，今チェックしているノードに⼊ってくる経路は全て調べ終えた状態になっているはずで，そのノードに⾄る最短経路が既に計算されていることになる．  \n"
   ]
  },
  {
   "cell_type": "code",
   "execution_count": 19,
   "metadata": {},
   "outputs": [
    {
     "name": "stdout",
     "output_type": "stream",
     "text": [
      "[0, 5, 6, 8, 9]\n"
     ]
    }
   ],
   "source": [
    "def shortest_path(V,E,edges,start_vertex):\n",
    "    #隣接リスト\n",
    "    edge_list=[[] for _ in range(V)]\n",
    "    for u,v,weight in edges:\n",
    "        edge_list[u].append([v,weight])\n",
    "    sorted_g = KahnTopo(V, E, [(u, v) for u, v, _ in edges])\n",
    "    if not sorted_g:\n",
    "        return ValueError\n",
    "    #最短距離を保持するリストの初期化\n",
    "    dist=[float('inf')]*V\n",
    "    dist[start_vertex]=0\n",
    "    for u in sorted_g:\n",
    "        if dist[u]!=float('inf'):\n",
    "            for v,weight in edge_list[u]:\n",
    "                if dist[v]>dist[u]+weight:\n",
    "                    dist[v]=dist[u]+weight\n",
    "    return dist\n",
    "\n",
    "V = 5 \n",
    "E = 6 \n",
    "edges = [[0, 1, 5], [0, 2, 6], [1, 3, 8], [2, 3, 2], [2, 4, 5], [3, 4, 1]] \n",
    "print(shortest_path(V, E, edges, 0))"
   ]
  },
  {
   "cell_type": "markdown",
   "metadata": {},
   "source": [
    "トポジカルソートでDAGの最短経路を求める場合の計算  \n",
    "トポジカル部分は$O(|V|+|E|)$  \n",
    "最短経路をDPで求める部分では各ノードｈソートされた順に一回チェックされ、確変も一回だけ処理される。$O(|V|+|E|)$  \n"
   ]
  },
  {
   "cell_type": "code",
   "execution_count": 38,
   "metadata": {},
   "outputs": [
    {
     "name": "stdout",
     "output_type": "stream",
     "text": [
      "46024105078\n",
      "46468702086\n",
      "46047847570\n",
      "46002244369\n",
      "46684452930\n",
      "46020481355\n",
      "46680978402\n",
      "46784352694\n",
      "46548015686\n",
      "46344794919\n",
      "46081736844\n",
      "46756248140\n",
      "46284608464\n",
      "46758495274\n",
      "46075808948\n",
      "45984208675\n",
      "46398407460\n",
      "46198371472\n",
      "46169300210\n",
      "46383180071\n",
      "46316392049\n",
      "46554212975\n",
      "46682675057\n",
      "46000526965\n",
      "46598476473\n",
      "46516291108\n",
      "46580185714\n",
      "46843374648\n",
      "46576998306\n",
      "46201858806\n",
      "46603476007\n",
      "45943931539\n",
      "46072814927\n",
      "46108863013\n",
      "46693681624\n",
      "46734476465\n",
      "46092509271\n",
      "46880668071\n",
      "46428157135\n",
      "46159134318\n",
      "46098225049\n",
      "46288992941\n",
      "46742989835\n",
      "46119568178\n",
      "46863673034\n",
      "46623321680\n",
      "46257393104\n",
      "46624222422\n",
      "46258879615\n",
      "46253829146\n",
      "46123957557\n",
      "46093213846\n",
      "46520924263\n",
      "46242910427\n",
      "46353440046\n",
      "46797987286\n",
      "46863509844\n",
      "46153440748\n",
      "46707497826\n",
      "46774234103\n",
      "46425108668\n",
      "46056832973\n",
      "46293422080\n",
      "46892021983\n",
      "46371637540\n",
      "46327514497\n",
      "47386339098\n",
      "46422087441\n",
      "46032109877\n",
      "45959881075\n",
      "45972576644\n",
      "46137971055\n",
      "46664472906\n",
      "46319132851\n",
      "46384905480\n",
      "46251449466\n",
      "46389155063\n",
      "46780764625\n",
      "45985327291\n",
      "46291273083\n",
      "46738399468\n",
      "46785805260\n",
      "46374174782\n",
      "46852740772\n",
      "46399122919\n",
      "46232980226\n",
      "45936547125\n",
      "46664980338\n",
      "46706223741\n",
      "46720250363\n",
      "45961338852\n",
      "46677924569\n",
      "46527786014\n",
      "46408741630\n",
      "46239795828\n",
      "45961174207\n",
      "46856218863\n",
      "46117348355\n",
      "46868443372\n",
      "46101511135\n"
     ]
    }
   ],
   "source": [
    "#Extra\n",
    "class UnionFind:\n",
    "    def __init__(self,n):\n",
    "        self.parent=list(range(n))\n",
    "        self.height=[0]*n\n",
    "        self.max_edge=[0]*n\n",
    "    \n",
    "    def get_root(self,x):\n",
    "        if self.parent[x] != x:\n",
    "            root=self.get_root(self.parent[x])\n",
    "            self.max_edge[x]=max(self.max_edge[x],self.max_edge[self.parent[x]])\n",
    "            self.parent[x]=root\n",
    "        return self.parent[x]\n",
    "    \n",
    "    def unite(self,x,y,cost):\n",
    "        root_x=self.get_root(x)\n",
    "        root_y=self.get_root(y)\n",
    "        if root_x!=root_y:\n",
    "            if root_x==0:\n",
    "                self.parent[root_y]=root_x\n",
    "                self.max_edge[root_y]=max(self.max_edge[root_y],cost)\n",
    "            elif root_y==0:\n",
    "                self.parent[root_x]=root_y\n",
    "                self.max_edge[root_x]=max(self.max_edge[root_x],cost)\n",
    "            elif self.height[root_x]<self.height[root_y]:\n",
    "                self.parent[root_x]=root_y\n",
    "                self.max_edge[root_x]=max(self.max_edge[root_x],cost)\n",
    "            else:\n",
    "                self.parent[root_y]=root_x\n",
    "                self.max_edge[root_y]=max(self.max_edge[root_y],cost)\n",
    "                if self.height[root_x]==self.height[root_y]:\n",
    "                    self.height[root_x]+=1\n",
    "    \n",
    "    def is_in_group(self, x, y):\n",
    "        return self.get_root(x) == self.get_root(y)\n",
    "    \n",
    "    \n",
    "    def max_edge_in_path(self, x):\n",
    "        max_edge=0\n",
    "        while self.parent[x]!=x:\n",
    "            max_edge=max(max_edge,self.max_edge[x])\n",
    "            x=self.parent[x]\n",
    "        return max_edge\n",
    "\n",
    "def kruskal(n,edges):\n",
    "    uf_tree=UnionFind(n)\n",
    "    edges.sort()\n",
    "    mst_cost=0\n",
    "    for cost,u,v in edges:\n",
    "        if not uf_tree.is_in_group(u,v):\n",
    "            uf_tree.unite(u,v,cost)\n",
    "            mst_cost+=cost\n",
    "    return mst_cost,uf_tree\n",
    "\n",
    "def solve(n,edges,queries):\n",
    "    edges_with_costs=[(cost, u-1, v-1) for u,v,cost in edges]\n",
    "    mst_cost,uf_tree=kruskal(n, edges_with_costs)\n",
    "    results=[]\n",
    "    for x,c in queries:\n",
    "        x-=1\n",
    "        max_edge=uf_tree.max_edge_in_path(x)\n",
    "        new_cost=mst_cost+c-max_edge\n",
    "        results.append(new_cost)\n",
    "    return results\n",
    "\n",
    "\n",
    "results = solve(N, edges_list, query_list)\n",
    "for result in results:\n",
    "    print(result)\n"
   ]
  }
 ],
 "metadata": {
  "kernelspec": {
   "display_name": "Python 3",
   "language": "python",
   "name": "python3"
  },
  "language_info": {
   "codemirror_mode": {
    "name": "ipython",
    "version": 3
   },
   "file_extension": ".py",
   "mimetype": "text/x-python",
   "name": "python",
   "nbconvert_exporter": "python",
   "pygments_lexer": "ipython3",
   "version": "3.12.4"
  }
 },
 "nbformat": 4,
 "nbformat_minor": 2
}
