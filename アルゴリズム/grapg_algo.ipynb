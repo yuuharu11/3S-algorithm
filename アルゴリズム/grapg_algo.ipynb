{
 "cells": [
  {
   "cell_type": "markdown",
   "metadata": {},
   "source": [
    "# グラフアルゴリズム1 (最短経路問題)\n",
    "最短経路問題の種類\n",
    "* 2頂点対最短経路問題ー特定の2つのノード間の最短距離を求める\n",
    "* 単一始点最短経路問題ーある始点ノードからほかの全部のノードへの最短経路を求める\n",
    "* 全点対最短経路問題ーすべての2ノード間の最短経路を求める\n"
   ]
  },
  {
   "cell_type": "markdown",
   "metadata": {},
   "source": [
    "# ダイクストラ法を用いた2頂点間の最短経路問題\n",
    "\n",
    "距離がバラバラだとBFSは使えない。→重要な性質「最短経路の部分経路も最短経路」\n",
    "\n",
    "## ダイクストラ法の手順\n",
    "\n",
    "1. **初期化**:\n",
    "    - 各ノードの最短距離を、十分に大きい数字で初期化。\n",
    "    - 開始ノードの距離を0に設定。\n",
    "\n",
    "2. **開始ノードの処理**:\n",
    "    - 開始ノードからスタートし、直接繋がっているノードに対して接続する辺の距離を参照し、そのノードの現時点での最短距離を記録。\n",
    "\n",
    "3. **確定済みノードの選定**:\n",
    "    - 開始ノードの処理が終わったら、そのノードを確定済みとする。\n",
    "    - 次に、最短距離が初期化されたときと違う値になっていて、かつ最短距離が確定されていないノードのうち、現時点で最短距離が最も小さいものを選び出す。\n",
    "\n",
    "4. **距離の更新**:\n",
    "    - 直接繋がっているノードに対して接続する辺の距離を参照し、その辺を使うことでそのノードの現時点での最短距離を更新できる場合は、更新。\n",
    "\n",
    "5. **確定**:\n",
    "    - このノードを確定とする。\n",
    "    - 以降、全てのノードが確定するまで #3 と #4 を繰り返す。"
   ]
  },
  {
   "cell_type": "code",
   "execution_count": 1,
   "metadata": {},
   "outputs": [
    {
     "name": "stdout",
     "output_type": "stream",
     "text": [
      "[0, 5, 4, 6, 7, 7, 9, 11]\n"
     ]
    }
   ],
   "source": [
    "edges_list = [[[1, 5], [2, 4]], [[0, 5], [3, 3], [5, 9]], [[0, 4], [3, 2], [4, 3]], [[1, 3], [2, 2], [5, 1], [6, 7]], [[2, 3], [6, 8]], [[1, 9], [3, 1], [6, 2], [7, 5]], [[3, 7], [4, 8], [5, 2], [7, 2]], [[5, 5], [6, 2]]]\n",
    "\n",
    "def dijkstra(V, e_list): \n",
    "    inf = 10**10\n",
    "    done = [False]*V \n",
    "    dist = [inf]*V\n",
    "    dist[0] = 0\n",
    "    while 1:\n",
    "        tmp_min_dist=inf\n",
    "        cur_node=-1\n",
    "        for i in range(V):\n",
    "            if (not done[i]) and (tmp_min_dist>dist[i]):\n",
    "                tmp_min_dist=dist[i]\n",
    "                cur_node=i\n",
    "        if cur_node==-1:\n",
    "            break\n",
    "        for e in e_list[cur_node]:\n",
    "            if dist[e[0]]>dist[cur_node]+e[1]:\n",
    "                dist[e[0]]=dist[cur_node]+e[1]\n",
    "        done[cur_node]=True\n",
    "    print(dist)\n",
    "\n",
    "dijkstra(8,edges_list)"
   ]
  },
  {
   "cell_type": "markdown",
   "metadata": {},
   "source": [
    "計算量はwhileループがすべてのノードを見るまで回り続けるためO(V)  \n",
    "最初のforループは常にO(|V|)よりwhileループも併せて$O(|V|^2)$となる。  \n",
    "##### 改善→ヒープの使用\n",
    "1. **ヒープから，現在までで最短距離を持つ未確定のノードを取り出す（ヒープが更新される）**\n",
    "2. **distを更新する．distの更新があればヒープの更新（要素の追加）を⾏う**\n",
    "3. **全ノード終わるまで，#1に戻る**"
   ]
  },
  {
   "cell_type": "code",
   "execution_count": 2,
   "metadata": {},
   "outputs": [
    {
     "name": "stdout",
     "output_type": "stream",
     "text": [
      "[0, 5, 4, 6, 7, 7, 9, 11]\n"
     ]
    }
   ],
   "source": [
    "import heapq\n",
    "\n",
    "def dijkstra_heap(V,e_list):\n",
    "    inf=10**10\n",
    "    done=[False]*V\n",
    "    dist=[inf]*V\n",
    "    dist[0]=0\n",
    "    node_heap=[]\n",
    "    heapq.heappush(node_heap,[dist[0],0])\n",
    "    #ヒープの要素がなくなるまで\n",
    "    while node_heap:\n",
    "        tmp=heapq.heappop(node_heap)\n",
    "        cur_node=tmp[1]\n",
    "        if not done[cur_node]: #未訪問\n",
    "            for e in e_list[cur_node]:\n",
    "                if dist[e[0]]>dist[cur_node]+e[1]:\n",
    "                    dist[e[0]]=dist[cur_node]+e[1]\n",
    "                    #更新時にヒープに入れる\n",
    "                    heapq.heappush(node_heap,[dist[e[0]],e[0]])\n",
    "        done[cur_node]=True\n",
    "    print(dist)\n",
    "            \n",
    "dijkstra_heap(8,edges_list)"
   ]
  },
  {
   "cell_type": "markdown",
   "metadata": {},
   "source": [
    "ヒープに入る要素の数はO(|E|)よりdistの更新に伴う要素の追加も最短距離のノードを取り出すのも計算量はO(|E|log|E|)になる。 \n",
    "ヒープの大きさはノードの数O(|V|)であるからdistの更新に伴う要素の更新はO(|E|log|V|) \n",
    "最短距離のノードを取り出すのにO(|V|log|V|)\n",
    "したがって全体としてO((|V|+|E|)log|V|)となる \n",
    "#### さらに\n",
    "フィボナッチヒープという特殊なヒープを使うとO(|E|+|V|log|V|)にできる\n"
   ]
  },
  {
   "cell_type": "markdown",
   "metadata": {},
   "source": [
    "## ベルマン・フォード法\n",
    "構造はダイクストラと同じだが、最短距離の選択を行わずに更新ごとにすべての辺に対しての計算を毎回行う  \n",
    "負の経路があっても計算可能  \n",
    "リストが始点、終点、距離の順であることに注意 "
   ]
  },
  {
   "cell_type": "code",
   "execution_count": 5,
   "metadata": {},
   "outputs": [
    {
     "name": "stdout",
     "output_type": "stream",
     "text": [
      "[0, 5, 4, 6, 7, 7, 9, 11]\n"
     ]
    }
   ],
   "source": [
    "def BellmanFord(V,edges_list):\n",
    "    inf=10**10\n",
    "    dist=[inf]*V\n",
    "    dist[0]=0\n",
    "    for j in range(V):\n",
    "        for e in edges_list: \n",
    "            if dist[e[1]] > e[2] + dist[e[0]]: \n",
    "                dist[e[1]] = e[2] + dist[e[0]] \n",
    "                # 負の閉路の検知\n",
    "                if j==V-1: \n",
    "                    return -1  \n",
    "    print(dist)\n",
    "    \n",
    "edges_list2 = [[0, 1, 5], [0, 2, 4], [1, 0, 5], [1, 3, 9], [1, 5, 9], [2, 0, 4], [2, 3, 2], [2, 4, 3], [3, 1, 9], [3, 2, 2], [3, 5, 1], [3, 6, 7], [4, 2, 3], [4, 6, 8], [5, 1, 9], [5, 3, 1], [5, 6, 2], [5, 7, 5], [6, 3, 7], [6, 4, 8], [6, 5, 2], [6, 7, 2], [7, 5, 5], [7, 6, 2]] \n",
    "BellmanFord(8, edges_list2)"
   ]
  },
  {
   "cell_type": "markdown",
   "metadata": {},
   "source": [
    "計算量は$ O(|V|^3) $"
   ]
  },
  {
   "cell_type": "markdown",
   "metadata": {},
   "source": [
    "## SPFA\n",
    "基本の考えはベルマン・フォードに同じだが毎回全部の辺をチェックすることを避けることで高速化を図る。  \n",
    "ノードiのdist[i]に更新がなければ，そこから直接つながっているノードに対するdistの更新は必要ない  \n",
    "つまり，dist[i]に更新が起きた時のみ，そこに接続するノードも更新する必要がある，として順次処理をする  \n",
    "実装においては，更新が必要なノードが出てきたら，それをキューに⼊れる  \n",
    "そのキューが空になるまでループを回す"
   ]
  },
  {
   "cell_type": "code",
   "execution_count": 6,
   "metadata": {},
   "outputs": [
    {
     "name": "stdout",
     "output_type": "stream",
     "text": [
      "[0, 5, 4, 6, 7, 7, 9, 11]\n",
      "24\n"
     ]
    }
   ],
   "source": [
    "from collections import deque\n",
    "def spfa(V,e_list):\n",
    "    inf=10**10\n",
    "    dist=[inf]*V\n",
    "    dist[0]=0\n",
    "    # チェックが必要なノードを格納するキュー\n",
    "    node_to_check = deque() \n",
    "    # キューに⼊っているかどうかのフラグ\n",
    "    in_queue = [False]*V\n",
    "    # 開始ノード（index：0）をキューに⼊れる\n",
    "    node_to_check.append(0) \n",
    "    in_queue[0] = True \n",
    "    # 辺をチェックした数をカウント（本来は必要なし）\n",
    "    count = 0\n",
    "    # キューにノードがある限りループを回す．\n",
    "    while node_to_check: \n",
    "        # キューから取り出し，このノードをチェック．\n",
    "        cur_node = node_to_check.popleft() \n",
    "        in_queue[cur_node] = False\n",
    "        # cur_nodeからつながっている辺をチェック．\n",
    "        for e in e_list[cur_node]: \n",
    "            count += 1 \n",
    "            if dist[e[0]] > dist[cur_node] + e[1]: \n",
    "                dist[e[0]] = dist[cur_node] + e[1]\n",
    "                # 更新したらキューに⼊れる\n",
    "                if not in_queue[e[0]]: \n",
    "                    in_queue[e[0]] = True \n",
    "                    node_to_check.append(e[0])\n",
    "    print(dist) \n",
    "    print(count)\n",
    "\n",
    "spfa(8, edges_list)"
   ]
  },
  {
   "cell_type": "markdown",
   "metadata": {},
   "source": [
    "計算量は$O(|V||E|)$だが、負の辺がないランダムケースでは実験的に$O(|E|)$になることが知られている。"
   ]
  },
  {
   "cell_type": "markdown",
   "metadata": {},
   "source": [
    "## ワーシャルフロイド法  \n",
    "2つのノードの全ての組み合わせに対して，最短経路（全点対最短経路）を導出するアルゴリズム  "
   ]
  },
  {
   "cell_type": "code",
   "execution_count": null,
   "metadata": {},
   "outputs": [],
   "source": [
    "def WarshallFloyd(V, e_matrix): \n",
    "    # dist[i][j]：ノードiからノードjまで最短距離を保持する．\n",
    "    # # 隣接⾏列を保持しておきたいならdeepcopyにする．\n",
    "    inf=10**10\n",
    "    dist = e_matrix\n",
    "    for i in range(V):\n",
    "        for j in range(V):\n",
    "            for k in range(V):\n",
    "                if dist[i][k]!=inf and dist[k][j]!=inf:\n",
    "                    if dist[i][j]>dist[i][k]+dist[k][j]:\n",
    "                        dist[i][j]=dist[i][k]+dist[k][j]\n",
    "    print(dist)"
   ]
  },
  {
   "cell_type": "code",
   "execution_count": null,
   "metadata": {},
   "outputs": [],
   "source": [
    "#課題10-a\n",
    "import heapq\n",
    "N,M,S=map(int,input().split())\n",
    "List=[list(map(int,input().split())) for _ in range(M)]\n",
    "\n",
    "def make_edges_list(L):\n",
    "    edges_list=[[] for _ in range(N)]\n",
    "    for u,v,w in L:\n",
    "        edges_list[u].append((v, w))\n",
    "    return edges_list\n",
    "\n",
    "def dijkstra_heap(V,S,e_list):\n",
    "    inf=10**30\n",
    "    done=[False]*V\n",
    "    dist=[inf]*V\n",
    "    dist[S]=0\n",
    "    node_heap=[]\n",
    "    heapq.heappush(node_heap,[dist[0],S])\n",
    "    #ヒープの要素がなくなるまで\n",
    "    while node_heap:\n",
    "        tmp=heapq.heappop(node_heap)\n",
    "        cur_node=tmp[1]\n",
    "        if not done[cur_node]: #未訪問\n",
    "            for e in e_list[cur_node]:\n",
    "                if dist[e[0]]>dist[cur_node]+e[1]:\n",
    "                    dist[e[0]]=dist[cur_node]+e[1]\n",
    "                    #更新時にヒープに入れる\n",
    "                    heapq.heappush(node_heap,[dist[e[0]],e[0]])\n",
    "        done[cur_node]=True\n",
    "    return dist\n",
    "            \n",
    "edges_list=make_edges_list(List)            \n",
    "dist=dijkstra_heap(N,S,edges_list)\n",
    "\n",
    "for d in dist:\n",
    "    if d==10**30:\n",
    "        print('INF')\n",
    "    else:\n",
    "        print(d)"
   ]
  },
  {
   "cell_type": "code",
   "execution_count": 9,
   "metadata": {},
   "outputs": [
    {
     "ename": "ValueError",
     "evalue": "too many values to unpack (expected 2)",
     "output_type": "error",
     "traceback": [
      "\u001b[1;31m---------------------------------------------------------------------------\u001b[0m",
      "\u001b[1;31mValueError\u001b[0m                                Traceback (most recent call last)",
      "Cell \u001b[1;32mIn[9], line 27\u001b[0m\n\u001b[0;32m     24\u001b[0m adj_matrix\u001b[38;5;241m=\u001b[39mmake_adj_matrix(N,List)\n\u001b[0;32m     25\u001b[0m dist_matrix\u001b[38;5;241m=\u001b[39mWarshallFloyd(N,adj_matrix)\n\u001b[1;32m---> 27\u001b[0m \u001b[38;5;28;01mfor\u001b[39;00m u,v \u001b[38;5;129;01min\u001b[39;00m query:\n\u001b[0;32m     28\u001b[0m     \u001b[38;5;28;01mif\u001b[39;00m dist_matrix[u][v]\u001b[38;5;241m==\u001b[39m\u001b[38;5;241m0\u001b[39m:\n\u001b[0;32m     29\u001b[0m         \u001b[38;5;28mprint\u001b[39m(\u001b[38;5;124m\"\u001b[39m\u001b[38;5;124mINF\u001b[39m\u001b[38;5;124m\"\u001b[39m)\n",
      "\u001b[1;31mValueError\u001b[0m: too many values to unpack (expected 2)"
     ]
    }
   ],
   "source": [
    "#課題10-b\n",
    "inf=10**30\n",
    "\n",
    "def make_adj_matrix(N,List):\n",
    "    adj_matrix=[[inf]*N for _ in range(N)]\n",
    "    for i in range(N):\n",
    "        adj_matrix[i][i]=0\n",
    "    for u,v,w in List:\n",
    "        adj_matrix[u][v]=w \n",
    "    return adj_matrix\n",
    "\n",
    "def WarshallFloyd(V,e_matrix): \n",
    "    dist=e_matrix    \n",
    "    for k in range(V):\n",
    "        for i in range(V):\n",
    "            for j in range(V):\n",
    "                if dist[i][k]!=inf and dist[k][j]!=inf:\n",
    "                    if dist[i][j]>dist[i][k]+dist[k][j]:\n",
    "                        dist[i][j]=dist[i][k]+dist[k][j]\n",
    "    return dist\n",
    "\n",
    "N,M=map(int, input().split())\n",
    "List=[list(map(int, input().split())) for _ in range(M)]\n",
    "Q=int(input())\n",
    "query=[list(map(int,input().split())) for _ in range(Q)]\n",
    "\n",
    "adj_matrix=make_adj_matrix(N,List)\n",
    "dist_matrix=WarshallFloyd(N,adj_matrix)\n",
    "\n",
    "for u,v in query:\n",
    "    if dist_matrix[u][v]==inf:\n",
    "        print(\"INF\")\n",
    "    else:\n",
    "        print(dist_matrix[u][v])\n"
   ]
  },
  {
   "cell_type": "code",
   "execution_count": 17,
   "metadata": {},
   "outputs": [
    {
     "name": "stdout",
     "output_type": "stream",
     "text": [
      "1\n",
      "2\n",
      "2\n",
      "1\n"
     ]
    },
    {
     "ename": "",
     "evalue": "",
     "output_type": "error",
     "traceback": [
      "\u001b[1;31m現在のセルまたは前のセルでコードを実行中に、カーネル (Kernel) がクラッシュしました。\n",
      "\u001b[1;31mエラーの原因を特定するには、セル内のコードを確認してください。\n",
      "\u001b[1;31m詳細については<a href='https://aka.ms/vscodeJupyterKernelCrash'>こちら</a>をクリックします。\n",
      "\u001b[1;31m詳細については、Jupyter <a href='command:jupyter.viewOutput'>ログ</a> を参照してください。"
     ]
    }
   ],
   "source": [
    "#Extra\n",
    "import heapq\n",
    "N,M,K=map(int,input().split())\n",
    "List=[list(map(int,input().split())) for _ in range(M)]\n",
    "\n",
    "def make_edges_list(L):\n",
    "    edges_list=[[] for _ in range(N)]\n",
    "    for u,v,w in L:\n",
    "        edges_list[u-1].append((v-1,w))\n",
    "        edges_list[v-1].append((u-1,w))\n",
    "    return edges_list\n",
    "\n",
    "def dijkstra_heap(V,S,e_list):\n",
    "    inf=10**30\n",
    "    days=[inf]*V\n",
    "    dist=[inf]*V\n",
    "    days[S]=0\n",
    "    dist[S]=0\n",
    "    node_heap=[]\n",
    "    heapq.heappush(node_heap,[0,0,S])\n",
    "    while node_heap:\n",
    "        tmp=heapq.heappop(node_heap)\n",
    "        cur_dist,cur_days,cur_node=tmp\n",
    "        if cur_days>days[cur_node]:\n",
    "            continue\n",
    "        for neighbor,length in e_list[cur_node]:\n",
    "            new_dist=cur_dist+length\n",
    "            if new_dist<=K:\n",
    "                if cur_days<days[neighbor] or cur_days==days[neighbor] and new_dist<dist[neighbor]:\n",
    "                    days[neighbor]=cur_days\n",
    "                    dist[neighbor]=new_dist\n",
    "                    heapq.heappush(node_heap,(new_dist,cur_days,neighbor))\n",
    "            else:\n",
    "                if cur_days+1<days[neighbor] or (cur_days+1==days[neighbor] and length<dist[neighbor]):\n",
    "                    days[neighbor]=cur_days+1\n",
    "                    dist[neighbor]=length\n",
    "                    heapq.heappush(node_heap,(length,cur_days+1,neighbor))\n",
    "    \n",
    "    return days\n",
    "            \n",
    "edges_list=make_edges_list(List)            \n",
    "days=dijkstra_heap(N,0,edges_list)\n",
    "\n",
    "for d in days[1:len(days)]:\n",
    "    print(d+1)"
   ]
  },
  {
   "cell_type": "code",
   "execution_count": null,
   "metadata": {},
   "outputs": [],
   "source": [
    "\n",
    "5 4 4\n",
    "1 5 3\n",
    "3 4 1\n",
    "2 1 3\n",
    "2 3 3"
   ]
  }
 ],
 "metadata": {
  "kernelspec": {
   "display_name": "Python 3",
   "language": "python",
   "name": "python3"
  },
  "language_info": {
   "codemirror_mode": {
    "name": "ipython",
    "version": 3
   },
   "file_extension": ".py",
   "mimetype": "text/x-python",
   "name": "python",
   "nbconvert_exporter": "python",
   "pygments_lexer": "ipython3",
   "version": "3.12.4"
  }
 },
 "nbformat": 4,
 "nbformat_minor": 2
}
