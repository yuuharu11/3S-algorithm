{
 "cells": [
  {
   "cell_type": "markdown",
   "metadata": {},
   "source": [
    "# BFSとDFS\n",
    "BFS：幅優先探索、キューを用いる\n",
    "後戻りしないように可能性のあるルートすべてにおいて1ステップずつ行くパターン\n",
    "* 最短距離問題\n",
    "\n",
    "DFS：深さ優先探索　スタックを用いる\n",
    "とりあえず行けるところまで行き、だめなら後戻り\n",
    "* オイラーツアー\n",
    "* LCA 最小共通祖先\n",
    "* 橋の検出　応用"
   ]
  },
  {
   "cell_type": "code",
   "execution_count": 3,
   "metadata": {},
   "outputs": [
    {
     "name": "stdout",
     "output_type": "stream",
     "text": [
      "Moved to B\n",
      "Moved to C\n",
      "Moved to D\n",
      "Moved to F\n",
      "Moved to E\n",
      "Moved to H\n",
      "Moved to G\n",
      "=FOUND!=\n"
     ]
    }
   ],
   "source": [
    "#bfsの実装\n",
    "#test\n",
    "from collections import deque\n",
    "n_name =['A', 'B', 'C', 'D', 'E', 'F', 'G', 'H']\n",
    "def bfs(edges, start, end):\n",
    "    waiting=deque()\n",
    "    done=[0]*8 #Vはノード数\n",
    "    done[start]=2\n",
    "    #開始ノードから接続されているノードを追加\n",
    "    for n in edges[start]:\n",
    "        done[n]=1 #発見した未訪問なので1\n",
    "        waiting.append(n) #キューに追加\n",
    "    #waitingの長さが0出ない限り、発見したが未訪問のノードがあることになる\n",
    "    while len(waiting):\n",
    "        #キューから取り出してノード移動\n",
    "        cur_node=waiting.popleft()\n",
    "        #cur_nodeを訪問済みにする\n",
    "        if done[cur_node]!=2:\n",
    "            done[cur_node]=2\n",
    "            print('Moved to {}'.format(n_name[cur_node]))\n",
    "            if(end == cur_node): \n",
    "                print('=FOUND!=')\n",
    "            for n in edges[cur_node]:\n",
    "                if done[n]==0: #初めて追加\n",
    "                    done[n]=1 #未訪問なので1\n",
    "                    waiting.append(n) #キュー追加\n",
    "\n",
    "edges_list = [[1, 2],[0, 3, 5],[0, 3, 4],[1, 2, 5],[2, 6],[1, 3, 7],[4],[5]]\n",
    "\n",
    "bfs(edges_list,0,6)"
   ]
  },
  {
   "cell_type": "code",
   "execution_count": 1,
   "metadata": {},
   "outputs": [
    {
     "name": "stdout",
     "output_type": "stream",
     "text": [
      "Moved to C\n",
      "Moved to E\n",
      "Moved to G\n",
      "=FOUND!=\n",
      "Moved to D\n",
      "Moved to F\n",
      "Moved to H\n",
      "Moved to B\n"
     ]
    }
   ],
   "source": [
    "#dfsの実装\n",
    "from collections import deque\n",
    "n_name =['A', 'B', 'C', 'D', 'E', 'F', 'G', 'H']\n",
    "def dfs(edges, start, end):\n",
    "    waiting=deque()\n",
    "    done=[0]*8 #Vはノード数\n",
    "    done[start]=2\n",
    "    #開始ノードから接続されているノードを追加\n",
    "    for n in edges[start]:\n",
    "        done[n]=1 #発見した未訪問なので1\n",
    "        waiting.append(n) #キューに追加\n",
    "    #waitingの長さが0出ない限り、発見したが未訪問のノードがあることになる\n",
    "    while len(waiting):\n",
    "        #キューから取り出してノード移動\n",
    "        cur_node=waiting.pop()\n",
    "        #cur_nodeを訪問済みにする\n",
    "        if done[cur_node]!=2:\n",
    "            done[cur_node]=2\n",
    "            print('Moved to {}'.format(n_name[cur_node]))\n",
    "            if(end == cur_node): \n",
    "                print('=FOUND!=')\n",
    "            for n in edges[cur_node]:\n",
    "                if done[n]==0: #初めて追加\n",
    "                    done[n]=1 #未訪問なので1\n",
    "                    waiting.append(n) #キュー追加\n",
    "\n",
    "edges_list = [[1, 2],[0, 3, 5],[0, 3, 4],[1, 2, 5],[2, 6],[1, 3, 7],[4],[5]]\n",
    "\n",
    "dfs(edges_list,0,6)"
   ]
  },
  {
   "cell_type": "code",
   "execution_count": 24,
   "metadata": {},
   "outputs": [
    {
     "name": "stdout",
     "output_type": "stream",
     "text": [
      "No\n"
     ]
    }
   ],
   "source": [
    "#課題9-a\n",
    "from collections import deque\n",
    "N,M,S,T=map(int,input().split())\n",
    "edges_list=[list(map(int,input().split())) for _ in range(M)]\n",
    "edges=[[] for _ in range(N)]\n",
    "for u, v in edges_list:\n",
    "    edges[u - 1].append(v - 1)\n",
    "    edges[v - 1].append(u - 1)\n",
    "\n",
    "def bfs(edges, start, end):\n",
    "    ans='No'\n",
    "    waiting=deque()\n",
    "    done=[0]*N\n",
    "    done[start]=2\n",
    "    for n in edges[start]:\n",
    "        done[n]=1 \n",
    "        waiting.append(n) \n",
    "    while len(waiting):\n",
    "        cur_node=waiting.pop()\n",
    "        if done[cur_node]!=2:\n",
    "            done[cur_node]=2\n",
    "            if(end == cur_node): \n",
    "                ans='Yes'\n",
    "            for n in edges[cur_node]:\n",
    "                if done[n]==0: \n",
    "                    done[n]=1 \n",
    "                    waiting.append(n) \n",
    "    return ans\n",
    "\n",
    "ans=bfs(edges,S-1,T-1)\n",
    "print(ans)\n"
   ]
  },
  {
   "cell_type": "code",
   "execution_count": 1,
   "metadata": {},
   "outputs": [
    {
     "name": "stdout",
     "output_type": "stream",
     "text": [
      "No\n"
     ]
    },
    {
     "ename": "",
     "evalue": "",
     "output_type": "error",
     "traceback": [
      "\u001b[1;31m現在のセルまたは前のセルでコードを実行中に、カーネル (Kernel) がクラッシュしました。\n",
      "\u001b[1;31mエラーの原因を特定するには、セル内のコードを確認してください。\n",
      "\u001b[1;31m詳細については<a href='https://aka.ms/vscodeJupyterKernelCrash'>こちら</a>をクリックします。\n",
      "\u001b[1;31m詳細については、Jupyter <a href='command:jupyter.viewOutput'>ログ</a> を参照してください。"
     ]
    }
   ],
   "source": [
    "N, M, S, T=map(int, input().split())\n",
    "edges_list=[list(map(int, input().split())) for _ in range(M)]\n",
    "edges = [[] for _ in range(N)]\n",
    "for u, v in edges_list:\n",
    "    edges[u-1].append(v-1)\n",
    "    edges[v-1].append(u-1)\n",
    "\n",
    "def dfs(edges, cur_node, end, done):\n",
    "    if cur_node==end:\n",
    "        return True\n",
    "    done[cur_node]=True\n",
    "    for neighbor in edges[cur_node]:\n",
    "        if not done[neighbor]:\n",
    "            if dfs(edges, neighbor, end, done):\n",
    "                return True\n",
    "    return False\n",
    "\n",
    "def is_path_exist(edges, start, end):\n",
    "    done=[False]*N\n",
    "    if dfs(edges, start, end, done):\n",
    "        return \"Yes\"  \n",
    "    else:\n",
    "        return \"No\"\n",
    "\n",
    "ans=is_path_exist(edges, S-1, T-1)\n",
    "print(ans)\n"
   ]
  },
  {
   "cell_type": "code",
   "execution_count": 54,
   "metadata": {},
   "outputs": [
    {
     "ename": "ValueError",
     "evalue": "not enough values to unpack (expected 2, got 0)",
     "output_type": "error",
     "traceback": [
      "\u001b[1;31m---------------------------------------------------------------------------\u001b[0m",
      "\u001b[1;31mValueError\u001b[0m                                Traceback (most recent call last)",
      "Cell \u001b[1;32mIn[54], line 4\u001b[0m\n\u001b[0;32m      1\u001b[0m \u001b[38;5;66;03m#課題9-b\u001b[39;00m\n\u001b[0;32m      2\u001b[0m \u001b[38;5;66;03m#bfsを用いて迷路の最短距離を求める\u001b[39;00m\n\u001b[0;32m      3\u001b[0m \u001b[38;5;28;01mfrom\u001b[39;00m \u001b[38;5;21;01mcollections\u001b[39;00m \u001b[38;5;28;01mimport\u001b[39;00m deque\n\u001b[1;32m----> 4\u001b[0m H,W\u001b[38;5;241m=\u001b[39m\u001b[38;5;28mmap\u001b[39m(\u001b[38;5;28mint\u001b[39m,\u001b[38;5;28minput\u001b[39m()\u001b[38;5;241m.\u001b[39msplit())\n\u001b[0;32m      5\u001b[0m sy,sx\u001b[38;5;241m=\u001b[39m\u001b[38;5;28mmap\u001b[39m(\u001b[38;5;28mint\u001b[39m,\u001b[38;5;28minput\u001b[39m()\u001b[38;5;241m.\u001b[39msplit())\n\u001b[0;32m      6\u001b[0m gy,gx\u001b[38;5;241m=\u001b[39m\u001b[38;5;28mmap\u001b[39m(\u001b[38;5;28mint\u001b[39m,\u001b[38;5;28minput\u001b[39m()\u001b[38;5;241m.\u001b[39msplit())\n",
      "\u001b[1;31mValueError\u001b[0m: not enough values to unpack (expected 2, got 0)"
     ]
    }
   ],
   "source": [
    "#課題9-b\n",
    "#bfsを用いて迷路の最短距離を求める\n",
    "from collections import deque\n",
    "H,W=map(int,input().split())\n",
    "sy,sx=map(int,input().split())\n",
    "gy,gx=map(int,input().split())\n",
    "A=[list(input().strip()) for _ in range(H)]\n",
    "\n",
    "sy-=1\n",
    "sx-=1\n",
    "gy-=1\n",
    "gx-=1\n",
    "direction=[(-1,0),(1,0),(0,-1),(0,1)]\n",
    "\n",
    "def bfs(H,W,sy,sx,gy,gx,A):\n",
    "    queue=deque([(sy,sx)])\n",
    "    list_1=[[-1]*W for _ in range(H)]\n",
    "    list_1[sy][sx]=0\n",
    "    while queue:\n",
    "        y,x=queue.popleft()\n",
    "        if (y,x)==(gy,gx):\n",
    "            return list_1[y][x]\n",
    "        for dy,dx in direction:\n",
    "            ny,nx=y+dy,x+dx\n",
    "            if 0 <= ny < H and 0 <= nx < W and A[ny][nx] == '.' and list_1[ny][nx] == -1:\n",
    "                list_1[ny][nx] = list_1[y][x] + 1\n",
    "                queue.append((ny, nx))\n",
    "    return -1\n",
    "\n",
    "ans=bfs(H,W,sy,sx,gy,gx,A)\n",
    "print(ans)"
   ]
  },
  {
   "cell_type": "code",
   "execution_count": 19,
   "metadata": {},
   "outputs": [
    {
     "name": "stdout",
     "output_type": "stream",
     "text": [
      "0\n",
      "0\n",
      "12\n"
     ]
    }
   ],
   "source": [
    "mod = 998244353\n",
    "\n",
    "def prime_factors(n):\n",
    "    factors = {}\n",
    "    d = 2\n",
    "    while d * d <= n:\n",
    "        while (n % d) == 0:\n",
    "            if d in factors:\n",
    "                factors[d] += 1\n",
    "            else:\n",
    "                factors[d] = 1\n",
    "            n //= d\n",
    "        d += 1\n",
    "    if n > 1:\n",
    "        factors[n] = 1\n",
    "    return factors\n",
    "\n",
    "def add_factors(prev_factors, current_factors):\n",
    "    for key, value in prev_factors.items():\n",
    "        if key in current_factors:\n",
    "            current_factors[key] += value\n",
    "        else:\n",
    "            current_factors[key] = value\n",
    "    return current_factors\n",
    "\n",
    "def multiply_factors(factors1, factors2):\n",
    "    combined_factors = factors1.copy()\n",
    "    for prime, count in factors2.items():\n",
    "        if prime in combined_factors:\n",
    "            combined_factors[prime] += count\n",
    "        else:\n",
    "            combined_factors[prime] = count\n",
    "    return combined_factors\n",
    "\n",
    "def divisor_count(prime_factors):\n",
    "    result = 1\n",
    "    for count in prime_factors.values():\n",
    "        result = (result * (count + 1)) % mod\n",
    "    return result\n",
    "\n",
    "def dfs(node, parent, graph, values, current_factors):\n",
    "    results = [0] * N\n",
    "    results[node] = divisor_count(current_factors)\n",
    "\n",
    "    for neighbor in graph[node]:\n",
    "        if neighbor != parent:\n",
    "            neighbor_factors = prime_factors(values[neighbor])\n",
    "            new_factors = multiply_factors(current_factors, neighbor_factors)\n",
    "            results = dfs(neighbor, node, graph, values, new_factors)\n",
    "            current_factors = add_factors(neighbor_factors, current_factors)\n",
    "\n",
    "    return results\n",
    "\n",
    "N = int(input())\n",
    "A = list(map(int, input().split()))\n",
    "edges = [list(map(int, input().split())) for _ in range(N-1)]\n",
    "\n",
    "graph = [[] for _ in range(N)]\n",
    "for u, v in edges:\n",
    "    graph[u-1].append(v-1)\n",
    "    graph[v-1].append(u-1)\n",
    "\n",
    "results = dfs(0, -1, graph, A, prime_factors(A[0]))\n",
    "\n",
    "for result in results:\n",
    "    print(result)\n"
   ]
  },
  {
   "cell_type": "code",
   "execution_count": 30,
   "metadata": {},
   "outputs": [
    {
     "name": "stdout",
     "output_type": "stream",
     "text": [
      "{2: 1, 3.0: 1}\n",
      "{2: 1, 3.0: 2}\n",
      "{2: 4, 3.0: 2}\n",
      "{2: 4, 3.0: 4}\n",
      "{2: 3, 3.0: 2}\n",
      "4\n",
      "6\n",
      "12\n",
      "15\n",
      "25\n"
     ]
    }
   ],
   "source": [
    "#Extra\n",
    "mod = 998244353\n",
    "\n",
    "def prime_factors(n):\n",
    "    factors={}\n",
    "    d=2\n",
    "    while d*d<=n:\n",
    "        while (n%d)==0:\n",
    "            if d in factors:\n",
    "                factors[d]+=1\n",
    "            else:\n",
    "                factors[d]=1\n",
    "            n=n/d\n",
    "        d+=1\n",
    "    if n>1:\n",
    "        factors[n]=1\n",
    "    return factors\n",
    "\n",
    "def add_factors(prev_factors,current_factors):\n",
    "    for key,value in  prev_factors.items():\n",
    "        if key in current_factors.keys():\n",
    "            current_factors[key]+=value\n",
    "        else:\n",
    "            current_factors[key]=value\n",
    "    return current_factors\n",
    "\n",
    "def divisor_count(prime_factors):\n",
    "    result=1\n",
    "    for count in prime_factors.values():\n",
    "        result=result*(count+1)\n",
    "    return result%mod\n",
    "\n",
    "def dfs(root, graph, values):\n",
    "    stack=[(root, -1, {}, 0)] \n",
    "    results=[0]*N\n",
    "\n",
    "    while stack:\n",
    "        node, parent, current_product, result = stack.pop()\n",
    "        \n",
    "        current_product=add_factors(prime_factors(values[node]),current_product)\n",
    "        result=divisor_count(current_product)\n",
    "\n",
    "        results[node]=result\n",
    "\n",
    "        for neighbor in graph[node]:\n",
    "            if neighbor!=parent:\n",
    "                stack.append((neighbor, node, current_product.copy(), result))\n",
    "\n",
    "    return results\n",
    "\n",
    "N = int(input())\n",
    "A = list(map(int, input().split()))\n",
    "edges = [list(map(int, input().split())) for _ in range(N-1)]\n",
    "\n",
    "graph = [[] for _ in range(N)]\n",
    "for u, v in edges:\n",
    "    graph[u-1].append(v-1)\n",
    "    graph[v-1].append(u-1)\n",
    "\n",
    "results = dfs(0, graph, A)\n",
    "\n",
    "for result in results:\n",
    "    print(result)\n"
   ]
  },
  {
   "cell_type": "code",
   "execution_count": null,
   "metadata": {},
   "outputs": [],
   "source": [
    "#Extra課題\n",
    "N=int(input())\n",
    "A=list(map(int,input().split()))\n",
    "edges=[list(map(int,input().split())) for _ in range(N-1)]\n",
    "mod=998244353\n",
    "\n",
    "def divisor_count(n):\n",
    "    count=0\n",
    "    i=1\n",
    "    while i*i<= n:\n",
    "        if n%i==0:\n",
    "            if i*i == n:\n",
    "                count+=1\n",
    "            else:\n",
    "                count+=2\n",
    "        i+=1\n",
    "    return count%mod\n",
    "\n",
    "def dfs(root, graph, values):\n",
    "    stack=[(root, -1, 1, 0)] \n",
    "    results=[0]*N\n",
    "\n",
    "    while stack:\n",
    "        node, parent, current_product, result = stack.pop()\n",
    "\n",
    "        current_product=(current_product*values[node])%mod\n",
    "        result=divisor_count(current_product)\n",
    "\n",
    "        results[node]=result\n",
    "\n",
    "        for neighbor in graph[node]:\n",
    "            if neighbor!=parent:\n",
    "                stack.append((neighbor, node, current_product, result))\n",
    "\n",
    "    return results\n",
    "\n",
    "graph=[[] for _ in range(N)]\n",
    "for u,v in edges:\n",
    "    graph[u-1].append(v-1)\n",
    "    graph[v-1].append(u-1)\n",
    "\n",
    "results=dfs(0,graph,A)\n",
    "\n",
    "for result in results:\n",
    "    print(result)"
   ]
  },
  {
   "cell_type": "code",
   "execution_count": 16,
   "metadata": {},
   "outputs": [
    {
     "name": "stdout",
     "output_type": "stream",
     "text": [
      "16\n"
     ]
    }
   ],
   "source": [
    "def make_divisors(n):\n",
    "    lower_divisors , upper_divisors = [], []\n",
    "    i = 1\n",
    "    while i*i <= n:\n",
    "        if n % i == 0:\n",
    "            lower_divisors.append(i)\n",
    "            if i != n // i:\n",
    "                upper_divisors.append(n//i)\n",
    "        i += 1\n",
    "    return lower_divisors + upper_divisors[::-1]\n",
    "\n",
    "print(len(make_divisors(8734928740273)))"
   ]
  },
  {
   "cell_type": "markdown",
   "metadata": {},
   "source": [
    "## オイラーツアー\n",
    "木のノード数を|V|とすればO(|V|)\n",
    "\n"
   ]
  },
  {
   "cell_type": "markdown",
   "metadata": {},
   "source": [
    "## LCA\n",
    "探し出す部分でセグメント木を使うことで計算量をO(|V|+Qlog|V|)に削減できる"
   ]
  }
 ],
 "metadata": {
  "kernelspec": {
   "display_name": ".venv",
   "language": "python",
   "name": "python3"
  },
  "language_info": {
   "codemirror_mode": {
    "name": "ipython",
    "version": 3
   },
   "file_extension": ".py",
   "mimetype": "text/x-python",
   "name": "python",
   "nbconvert_exporter": "python",
   "pygments_lexer": "ipython3",
   "version": "3.12.4"
  }
 },
 "nbformat": 4,
 "nbformat_minor": 2
}
